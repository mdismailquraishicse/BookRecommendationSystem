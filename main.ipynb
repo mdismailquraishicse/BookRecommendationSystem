{
 "cells": [
  {
   "cell_type": "code",
   "execution_count": 1,
   "id": "05b1d96e-a3d4-4235-bd1c-4a388212befe",
   "metadata": {},
   "outputs": [],
   "source": [
    "# Libraries\n",
    "import my_module as kyd\n",
    "import nltk\n",
    "import string\n",
    "import numpy as np\n",
    "import pandas as pd\n",
    "import seaborn as sns\n",
    "import matplotlib.pyplot as plt\n",
    "import pickle\n",
    "from sklearn.model_selection import train_test_split\n",
    "from sklearn.feature_extraction.text import CountVectorizer\n",
    "from sklearn.metrics.pairwise import cosine_similarity"
   ]
  },
  {
   "cell_type": "code",
   "execution_count": 2,
   "id": "a50dae55-d757-4b91-90b0-f1f1106a7283",
   "metadata": {},
   "outputs": [],
   "source": [
    "# Load data\n",
    "path_book= './preprocessed_data/preprocessed_book.csv'\n",
    "path_rating= './data/Ratings.csv'\n",
    "book= pd.read_csv(path_book)\n",
    "rating= pd.read_csv(path_rating)\n",
    "# drop unnamed columns\n",
    "book.drop('Unnamed: 0',axis=1, inplace=True)\n",
    "merge_df= pd.merge(book,rating, on='ISBN') # Merge rating and book"
   ]
  },
  {
   "cell_type": "code",
   "execution_count": 3,
   "id": "44463423-5413-4cdc-9a5f-11ba901abdc7",
   "metadata": {},
   "outputs": [
    {
     "data": {
      "text/html": [
       "<div>\n",
       "<style scoped>\n",
       "    .dataframe tbody tr th:only-of-type {\n",
       "        vertical-align: middle;\n",
       "    }\n",
       "\n",
       "    .dataframe tbody tr th {\n",
       "        vertical-align: top;\n",
       "    }\n",
       "\n",
       "    .dataframe thead th {\n",
       "        text-align: right;\n",
       "    }\n",
       "</style>\n",
       "<table border=\"1\" class=\"dataframe\">\n",
       "  <thead>\n",
       "    <tr style=\"text-align: right;\">\n",
       "      <th></th>\n",
       "      <th>ISBN</th>\n",
       "      <th>Book-Title</th>\n",
       "      <th>Book-Author</th>\n",
       "      <th>Year-Of-Publication</th>\n",
       "      <th>Publisher</th>\n",
       "      <th>Image-URL-S</th>\n",
       "      <th>Image-URL-M</th>\n",
       "      <th>Image-URL-L</th>\n",
       "      <th>User-ID</th>\n",
       "      <th>Book-Rating</th>\n",
       "    </tr>\n",
       "  </thead>\n",
       "  <tbody>\n",
       "    <tr>\n",
       "      <th>0</th>\n",
       "      <td>0195153448</td>\n",
       "      <td>Classical Mythology</td>\n",
       "      <td>Mark P. O. Morford</td>\n",
       "      <td>2002</td>\n",
       "      <td>Oxford University Press</td>\n",
       "      <td>http://images.amazon.com/images/P/0195153448.0...</td>\n",
       "      <td>http://images.amazon.com/images/P/0195153448.0...</td>\n",
       "      <td>http://images.amazon.com/images/P/0195153448.0...</td>\n",
       "      <td>2</td>\n",
       "      <td>0</td>\n",
       "    </tr>\n",
       "    <tr>\n",
       "      <th>1</th>\n",
       "      <td>0002005018</td>\n",
       "      <td>Clara Callan</td>\n",
       "      <td>Richard Bruce Wright</td>\n",
       "      <td>2001</td>\n",
       "      <td>HarperFlamingo Canada</td>\n",
       "      <td>http://images.amazon.com/images/P/0002005018.0...</td>\n",
       "      <td>http://images.amazon.com/images/P/0002005018.0...</td>\n",
       "      <td>http://images.amazon.com/images/P/0002005018.0...</td>\n",
       "      <td>8</td>\n",
       "      <td>5</td>\n",
       "    </tr>\n",
       "    <tr>\n",
       "      <th>2</th>\n",
       "      <td>0002005018</td>\n",
       "      <td>Clara Callan</td>\n",
       "      <td>Richard Bruce Wright</td>\n",
       "      <td>2001</td>\n",
       "      <td>HarperFlamingo Canada</td>\n",
       "      <td>http://images.amazon.com/images/P/0002005018.0...</td>\n",
       "      <td>http://images.amazon.com/images/P/0002005018.0...</td>\n",
       "      <td>http://images.amazon.com/images/P/0002005018.0...</td>\n",
       "      <td>11400</td>\n",
       "      <td>0</td>\n",
       "    </tr>\n",
       "    <tr>\n",
       "      <th>3</th>\n",
       "      <td>0002005018</td>\n",
       "      <td>Clara Callan</td>\n",
       "      <td>Richard Bruce Wright</td>\n",
       "      <td>2001</td>\n",
       "      <td>HarperFlamingo Canada</td>\n",
       "      <td>http://images.amazon.com/images/P/0002005018.0...</td>\n",
       "      <td>http://images.amazon.com/images/P/0002005018.0...</td>\n",
       "      <td>http://images.amazon.com/images/P/0002005018.0...</td>\n",
       "      <td>11676</td>\n",
       "      <td>8</td>\n",
       "    </tr>\n",
       "    <tr>\n",
       "      <th>4</th>\n",
       "      <td>0002005018</td>\n",
       "      <td>Clara Callan</td>\n",
       "      <td>Richard Bruce Wright</td>\n",
       "      <td>2001</td>\n",
       "      <td>HarperFlamingo Canada</td>\n",
       "      <td>http://images.amazon.com/images/P/0002005018.0...</td>\n",
       "      <td>http://images.amazon.com/images/P/0002005018.0...</td>\n",
       "      <td>http://images.amazon.com/images/P/0002005018.0...</td>\n",
       "      <td>41385</td>\n",
       "      <td>0</td>\n",
       "    </tr>\n",
       "  </tbody>\n",
       "</table>\n",
       "</div>"
      ],
      "text/plain": [
       "         ISBN           Book-Title           Book-Author  Year-Of-Publication  \\\n",
       "0  0195153448  Classical Mythology    Mark P. O. Morford                 2002   \n",
       "1  0002005018         Clara Callan  Richard Bruce Wright                 2001   \n",
       "2  0002005018         Clara Callan  Richard Bruce Wright                 2001   \n",
       "3  0002005018         Clara Callan  Richard Bruce Wright                 2001   \n",
       "4  0002005018         Clara Callan  Richard Bruce Wright                 2001   \n",
       "\n",
       "                 Publisher                                        Image-URL-S  \\\n",
       "0  Oxford University Press  http://images.amazon.com/images/P/0195153448.0...   \n",
       "1    HarperFlamingo Canada  http://images.amazon.com/images/P/0002005018.0...   \n",
       "2    HarperFlamingo Canada  http://images.amazon.com/images/P/0002005018.0...   \n",
       "3    HarperFlamingo Canada  http://images.amazon.com/images/P/0002005018.0...   \n",
       "4    HarperFlamingo Canada  http://images.amazon.com/images/P/0002005018.0...   \n",
       "\n",
       "                                         Image-URL-M  \\\n",
       "0  http://images.amazon.com/images/P/0195153448.0...   \n",
       "1  http://images.amazon.com/images/P/0002005018.0...   \n",
       "2  http://images.amazon.com/images/P/0002005018.0...   \n",
       "3  http://images.amazon.com/images/P/0002005018.0...   \n",
       "4  http://images.amazon.com/images/P/0002005018.0...   \n",
       "\n",
       "                                         Image-URL-L  User-ID  Book-Rating  \n",
       "0  http://images.amazon.com/images/P/0195153448.0...        2            0  \n",
       "1  http://images.amazon.com/images/P/0002005018.0...        8            5  \n",
       "2  http://images.amazon.com/images/P/0002005018.0...    11400            0  \n",
       "3  http://images.amazon.com/images/P/0002005018.0...    11676            8  \n",
       "4  http://images.amazon.com/images/P/0002005018.0...    41385            0  "
      ]
     },
     "execution_count": 3,
     "metadata": {},
     "output_type": "execute_result"
    }
   ],
   "source": [
    "# First view\n",
    "merge_df.head(5)"
   ]
  },
  {
   "cell_type": "code",
   "execution_count": 4,
   "id": "48a53b25-4352-4402-8927-6b7371c8616a",
   "metadata": {},
   "outputs": [
    {
     "name": "stdout",
     "output_type": "stream",
     "text": [
      "Book shape (271360, 8)\n",
      "rating shape (1149780, 3)\n",
      "\n",
      "merged df :\n",
      "Shape:  (1031136, 10)\n",
      "Duplicates count:  0\n",
      "Columns:\n",
      "['ISBN', 'Book-Title', 'Book-Author', 'Year-Of-Publication', 'Publisher', 'Image-URL-S', 'Image-URL-M', 'Image-URL-L', 'User-ID', 'Book-Rating']\n"
     ]
    }
   ],
   "source": [
    "# Print basic details\n",
    "print('Book shape',book.shape)\n",
    "print('rating shape',rating.shape)\n",
    "print()\n",
    "print('merged df :')\n",
    "kyd.knowYourData(merge_df) # This function is defined in my_module.py file"
   ]
  },
  {
   "cell_type": "markdown",
   "id": "daacf038-d1f7-4175-9b35-0f39390af04d",
   "metadata": {},
   "source": [
    "### Preprocessing"
   ]
  },
  {
   "cell_type": "code",
   "execution_count": 5,
   "id": "e3fd4c8c-d5a4-41d5-89e2-bf3c4495d9be",
   "metadata": {},
   "outputs": [],
   "source": [
    "df_copy= merge_df.copy() # Making copy of the merge df\n",
    "df_copy['bool_rate'] = df_copy['Book-Rating'].apply(lambda x: 1 if x>0 else 0) # Creating new column bool_rate\n",
    "# Fetching data where # of rating > 10 for each title\n",
    "no_of_rate_titlewise= df_copy.groupby(['Book-Title'])['bool_rate'].sum()\n",
    "popular_books= no_of_rate_titlewise[no_of_rate_titlewise>10].sort_values(ascending=False)\n",
    "# Fetching data where # of rating > 10 for each user\n",
    "no_of_rate_userwise = df_copy.groupby(['User-ID'])['bool_rate'].sum()\n",
    "educated_users = no_of_rate_userwise[no_of_rate_userwise>10]"
   ]
  },
  {
   "cell_type": "code",
   "execution_count": 6,
   "id": "eee882bd-38ca-40b5-b6f2-80434ddd2c91",
   "metadata": {},
   "outputs": [
    {
     "name": "stdout",
     "output_type": "stream",
     "text": [
      "(736124, 11)\n",
      "(251953, 11)\n",
      "(5041, 11)\n"
     ]
    }
   ],
   "source": [
    "df_copy = df_copy[df_copy['User-ID'].isin(educated_users.index)] # Keeping only those data where users are educated\n",
    "print(df_copy.shape)\n",
    "df_copy = df_copy[df_copy['Book-Title'].isin(popular_books.index)] # Keeping only those data where books are popular\n",
    "print(df_copy.shape)\n",
    "df_copy.drop_duplicates('Book-Title', inplace=True) # Drop the data where titles are duplicate\n",
    "print(df_copy.shape)\n",
    "df_copy.drop(['bool_rate'], axis=1, inplace=True) # We don't require the column bool_rate anymore"
   ]
  },
  {
   "cell_type": "code",
   "execution_count": 7,
   "id": "e17a77ef-e84d-4cf2-8f5b-91dbe3000fe7",
   "metadata": {},
   "outputs": [],
   "source": [
    "# columns transformation\n",
    "df_copy['transformed_author'] = df_copy['Book-Author'].apply(lambda x: x.replace(' ',''))\n",
    "df_copy['transformed_publisher'] = df_copy['Publisher'].apply(lambda x: x.replace(' ',''))\n",
    "df_copy['Year-Of-Publication'] = df_copy['Year-Of-Publication'].apply(lambda x:str(x))"
   ]
  },
  {
   "cell_type": "code",
   "execution_count": 8,
   "id": "ea16ad5a-1a2f-4593-a0c5-62b2f30dad79",
   "metadata": {},
   "outputs": [],
   "source": [
    "# Making word corpus for model building\n",
    "df_copy['corpus'] = df_copy['Book-Title'] + ' ' + df_copy['transformed_author'] + ' ' + df_copy['transformed_publisher'] # Year columns will be added later\n",
    "df_copy.drop(['transformed_author','transformed_publisher'], axis =1, inplace=True) # Drop the transformed columns\n",
    "df_copy['corpus'] = df_copy['corpus'].apply(kyd.remove_punctuations) # punctuation and integer removal : This function is defined in my_module.py file\n",
    "df_copy['corpus'] = df_copy['corpus'].apply(kyd.removeIntegers) # punctuation and integer removal : This function is defined in my_module.py file\n",
    "df_copy['corpus'] = df_copy['corpus'] + ' ' + df_copy['Year-Of-Publication'] # Publication years have been added in the corpus\n",
    "df_copy['corpus'] = df_copy['corpus'].apply(kyd.stemming) # Stemming function applied from my_module"
   ]
  },
  {
   "cell_type": "code",
   "execution_count": 9,
   "id": "8a1da810-4e01-43bc-be36-c4ef66e659ce",
   "metadata": {},
   "outputs": [],
   "source": [
    "# Vectorization\n",
    "countVector= CountVectorizer(stop_words='english', max_features=5000)\n",
    "vectors= countVector.fit_transform(df_copy['corpus']).toarray()"
   ]
  },
  {
   "cell_type": "code",
   "execution_count": 10,
   "id": "b065d007-3145-4ac6-8657-dd4e8bc4d619",
   "metadata": {},
   "outputs": [],
   "source": [
    "similarity_score = cosine_similarity(vectors) # Calculation of similarity score\n",
    "similarity_df = pd.DataFrame(similarity_score, index=df_copy['Book-Title'], columns=df_copy['Book-Title']) # Making similarity df"
   ]
  },
  {
   "cell_type": "code",
   "execution_count": 11,
   "id": "e2e06921-e6ba-4629-b3fd-88971f6d1df1",
   "metadata": {},
   "outputs": [],
   "source": [
    "# Defination of recommend function\n",
    "def recommend(book_title):\n",
    "    return similarity_df[book_title].sort_values(ascending=False).index[1:11]"
   ]
  },
  {
   "cell_type": "code",
   "execution_count": 12,
   "id": "59d69db3-633a-4f31-8b12-11e63c3d153a",
   "metadata": {},
   "outputs": [],
   "source": [
    "# Required df to display\n",
    "df_required = df_copy[df_copy['Book-Title'].isin(similarity_df.index)][['ISBN', 'Book-Title', 'Book-Author',\n",
    "                                                                        'Year-Of-Publication', 'Publisher', 'Image-URL-M']]\n",
    "dict_required = df_required.to_dict() # Save csv file to the memory"
   ]
  },
  {
   "cell_type": "code",
   "execution_count": 13,
   "id": "d2c3654a-e084-4059-bab0-67c43d4081ae",
   "metadata": {},
   "outputs": [],
   "source": [
    "# Save the object in pickle form\n",
    "pickle.dump(dict(similarity_df),open('similarity_score.pkl','wb'))\n",
    "pickle.dump((similarity_df.index),open('similarity_columns.pkl','wb'))\n",
    "pickle.dump((dict_required),open('dict_required.pkl','wb'))"
   ]
  },
  {
   "cell_type": "code",
   "execution_count": null,
   "id": "3ccc16ef-a5c5-4f52-9c19-d6aa8fed37e4",
   "metadata": {},
   "outputs": [],
   "source": []
  }
 ],
 "metadata": {
  "kernelspec": {
   "display_name": "Python 3 (ipykernel)",
   "language": "python",
   "name": "python3"
  },
  "language_info": {
   "codemirror_mode": {
    "name": "ipython",
    "version": 3
   },
   "file_extension": ".py",
   "mimetype": "text/x-python",
   "name": "python",
   "nbconvert_exporter": "python",
   "pygments_lexer": "ipython3",
   "version": "3.11.7"
  }
 },
 "nbformat": 4,
 "nbformat_minor": 5
}
