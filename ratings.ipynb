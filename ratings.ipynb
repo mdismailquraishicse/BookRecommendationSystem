{
 "cells": [
  {
   "cell_type": "code",
   "execution_count": 1,
   "metadata": {
    "executionInfo": {
     "elapsed": 2249,
     "status": "ok",
     "timestamp": 1714890285515,
     "user": {
      "displayName": "Md Ismail Quraishi",
      "userId": "17965524950197018461"
     },
     "user_tz": -330
    },
    "id": "olzEwu61MBd1"
   },
   "outputs": [],
   "source": [
    "# Libraries\n",
    "import numpy as np\n",
    "import pandas as pd\n",
    "import seaborn as sns\n",
    "import matplotlib.pyplot as plt\n",
    "import pickle\n",
    "import my_module as kyd"
   ]
  },
  {
   "cell_type": "code",
   "execution_count": 2,
   "metadata": {
    "colab": {
     "base_uri": "https://localhost:8080/",
     "height": 206
    },
    "executionInfo": {
     "elapsed": 1702,
     "status": "ok",
     "timestamp": 1714890287214,
     "user": {
      "displayName": "Md Ismail Quraishi",
      "userId": "17965524950197018461"
     },
     "user_tz": -330
    },
    "id": "ffDxPap9WajX",
    "outputId": "77dbdbf9-cbfd-4ba5-8a0d-06fc2ad4e671"
   },
   "outputs": [
    {
     "data": {
      "text/html": [
       "<div>\n",
       "<style scoped>\n",
       "    .dataframe tbody tr th:only-of-type {\n",
       "        vertical-align: middle;\n",
       "    }\n",
       "\n",
       "    .dataframe tbody tr th {\n",
       "        vertical-align: top;\n",
       "    }\n",
       "\n",
       "    .dataframe thead th {\n",
       "        text-align: right;\n",
       "    }\n",
       "</style>\n",
       "<table border=\"1\" class=\"dataframe\">\n",
       "  <thead>\n",
       "    <tr style=\"text-align: right;\">\n",
       "      <th></th>\n",
       "      <th>User-ID</th>\n",
       "      <th>ISBN</th>\n",
       "      <th>Book-Rating</th>\n",
       "    </tr>\n",
       "  </thead>\n",
       "  <tbody>\n",
       "    <tr>\n",
       "      <th>0</th>\n",
       "      <td>276725</td>\n",
       "      <td>034545104X</td>\n",
       "      <td>0</td>\n",
       "    </tr>\n",
       "    <tr>\n",
       "      <th>1</th>\n",
       "      <td>276726</td>\n",
       "      <td>0155061224</td>\n",
       "      <td>5</td>\n",
       "    </tr>\n",
       "    <tr>\n",
       "      <th>2</th>\n",
       "      <td>276727</td>\n",
       "      <td>0446520802</td>\n",
       "      <td>0</td>\n",
       "    </tr>\n",
       "    <tr>\n",
       "      <th>3</th>\n",
       "      <td>276729</td>\n",
       "      <td>052165615X</td>\n",
       "      <td>3</td>\n",
       "    </tr>\n",
       "    <tr>\n",
       "      <th>4</th>\n",
       "      <td>276729</td>\n",
       "      <td>0521795028</td>\n",
       "      <td>6</td>\n",
       "    </tr>\n",
       "  </tbody>\n",
       "</table>\n",
       "</div>"
      ],
      "text/plain": [
       "   User-ID        ISBN  Book-Rating\n",
       "0   276725  034545104X            0\n",
       "1   276726  0155061224            5\n",
       "2   276727  0446520802            0\n",
       "3   276729  052165615X            3\n",
       "4   276729  0521795028            6"
      ]
     },
     "execution_count": 2,
     "metadata": {},
     "output_type": "execute_result"
    }
   ],
   "source": [
    "# Load and read data\n",
    "# path= '/content/drive/MyDrive/MyProjects/ML Projects/Unsupervised ML/BookRecommendationSystem/data/Ratings.csv'\n",
    "path='./data/Ratings.csv'\n",
    "df= pd.read_csv(path)\n",
    "df.head()"
   ]
  },
  {
   "cell_type": "code",
   "execution_count": 3,
   "metadata": {
    "colab": {
     "base_uri": "https://localhost:8080/"
    },
    "executionInfo": {
     "elapsed": 22,
     "status": "ok",
     "timestamp": 1714890287215,
     "user": {
      "displayName": "Md Ismail Quraishi",
      "userId": "17965524950197018461"
     },
     "user_tz": -330
    },
    "id": "Hnsp7aZ9Wl5V",
    "outputId": "5098d264-fdf1-4e9b-b2af-6d8c36aa9ccf"
   },
   "outputs": [
    {
     "name": "stdout",
     "output_type": "stream",
     "text": [
      "Shape:  (1149780, 3)\n",
      "Duplicates count:  0\n",
      "Columns:\n",
      "['User-ID', 'ISBN', 'Book-Rating']\n"
     ]
    }
   ],
   "source": [
    "# Function displays shape, duplicates count and list of columns\n",
    "kyd.knowYourData(df)"
   ]
  },
  {
   "cell_type": "code",
   "execution_count": 4,
   "metadata": {
    "colab": {
     "base_uri": "https://localhost:8080/"
    },
    "executionInfo": {
     "elapsed": 17,
     "status": "ok",
     "timestamp": 1714890287216,
     "user": {
      "displayName": "Md Ismail Quraishi",
      "userId": "17965524950197018461"
     },
     "user_tz": -330
    },
    "id": "_-lyrafHW0x0",
    "outputId": "f985faea-253c-4cfa-bdba-8e00b7e1db8b"
   },
   "outputs": [
    {
     "name": "stdout",
     "output_type": "stream",
     "text": [
      "<class 'pandas.core.frame.DataFrame'>\n",
      "RangeIndex: 1149780 entries, 0 to 1149779\n",
      "Data columns (total 3 columns):\n",
      " #   Column       Non-Null Count    Dtype \n",
      "---  ------       --------------    ----- \n",
      " 0   User-ID      1149780 non-null  int64 \n",
      " 1   ISBN         1149780 non-null  object\n",
      " 2   Book-Rating  1149780 non-null  int64 \n",
      "dtypes: int64(2), object(1)\n",
      "memory usage: 26.3+ MB\n"
     ]
    }
   ],
   "source": [
    "# Info\n",
    "df.info()"
   ]
  },
  {
   "cell_type": "code",
   "execution_count": 5,
   "metadata": {
    "executionInfo": {
     "elapsed": 14,
     "status": "ok",
     "timestamp": 1714890287217,
     "user": {
      "displayName": "Md Ismail Quraishi",
      "userId": "17965524950197018461"
     },
     "user_tz": -330
    },
    "id": "QQL9pvd6aKUC"
   },
   "outputs": [
    {
     "data": {
      "text/html": [
       "<div>\n",
       "<style scoped>\n",
       "    .dataframe tbody tr th:only-of-type {\n",
       "        vertical-align: middle;\n",
       "    }\n",
       "\n",
       "    .dataframe tbody tr th {\n",
       "        vertical-align: top;\n",
       "    }\n",
       "\n",
       "    .dataframe thead th {\n",
       "        text-align: right;\n",
       "    }\n",
       "</style>\n",
       "<table border=\"1\" class=\"dataframe\">\n",
       "  <thead>\n",
       "    <tr style=\"text-align: right;\">\n",
       "      <th></th>\n",
       "      <th>User-ID</th>\n",
       "      <th>Book-Rating</th>\n",
       "    </tr>\n",
       "  </thead>\n",
       "  <tbody>\n",
       "    <tr>\n",
       "      <th>count</th>\n",
       "      <td>1.149780e+06</td>\n",
       "      <td>1.149780e+06</td>\n",
       "    </tr>\n",
       "    <tr>\n",
       "      <th>mean</th>\n",
       "      <td>1.403864e+05</td>\n",
       "      <td>2.866950e+00</td>\n",
       "    </tr>\n",
       "    <tr>\n",
       "      <th>std</th>\n",
       "      <td>8.056228e+04</td>\n",
       "      <td>3.854184e+00</td>\n",
       "    </tr>\n",
       "    <tr>\n",
       "      <th>min</th>\n",
       "      <td>2.000000e+00</td>\n",
       "      <td>0.000000e+00</td>\n",
       "    </tr>\n",
       "    <tr>\n",
       "      <th>25%</th>\n",
       "      <td>7.034500e+04</td>\n",
       "      <td>0.000000e+00</td>\n",
       "    </tr>\n",
       "    <tr>\n",
       "      <th>50%</th>\n",
       "      <td>1.410100e+05</td>\n",
       "      <td>0.000000e+00</td>\n",
       "    </tr>\n",
       "    <tr>\n",
       "      <th>75%</th>\n",
       "      <td>2.110280e+05</td>\n",
       "      <td>7.000000e+00</td>\n",
       "    </tr>\n",
       "    <tr>\n",
       "      <th>max</th>\n",
       "      <td>2.788540e+05</td>\n",
       "      <td>1.000000e+01</td>\n",
       "    </tr>\n",
       "  </tbody>\n",
       "</table>\n",
       "</div>"
      ],
      "text/plain": [
       "            User-ID   Book-Rating\n",
       "count  1.149780e+06  1.149780e+06\n",
       "mean   1.403864e+05  2.866950e+00\n",
       "std    8.056228e+04  3.854184e+00\n",
       "min    2.000000e+00  0.000000e+00\n",
       "25%    7.034500e+04  0.000000e+00\n",
       "50%    1.410100e+05  0.000000e+00\n",
       "75%    2.110280e+05  7.000000e+00\n",
       "max    2.788540e+05  1.000000e+01"
      ]
     },
     "execution_count": 5,
     "metadata": {},
     "output_type": "execute_result"
    }
   ],
   "source": [
    "# Describe\n",
    "df.describe()"
   ]
  },
  {
   "cell_type": "code",
   "execution_count": 6,
   "metadata": {},
   "outputs": [
    {
     "name": "stdout",
     "output_type": "stream",
     "text": [
      "User-ID        105283\n",
      "ISBN           340556\n",
      "Book-Rating        11\n",
      "dtype: int64\n"
     ]
    }
   ],
   "source": [
    "# Unique\n",
    "print(df.nunique())"
   ]
  },
  {
   "cell_type": "code",
   "execution_count": 7,
   "metadata": {},
   "outputs": [
    {
     "name": "stdout",
     "output_type": "stream",
     "text": [
      "[ 0  5  3  6  8  7 10  9  4  1  2]\n"
     ]
    }
   ],
   "source": [
    "# Unique value for Book-Rating\n",
    "print(df['Book-Rating'].unique())"
   ]
  },
  {
   "cell_type": "code",
   "execution_count": 8,
   "metadata": {},
   "outputs": [
    {
     "data": {
      "text/plain": [
       "User-ID        0\n",
       "ISBN           0\n",
       "Book-Rating    0\n",
       "dtype: int64"
      ]
     },
     "execution_count": 8,
     "metadata": {},
     "output_type": "execute_result"
    }
   ],
   "source": [
    "# Null/ Missing\n",
    "df.isna().sum()"
   ]
  },
  {
   "cell_type": "markdown",
   "metadata": {},
   "source": [
    "### Data Description\n",
    "1. shape : (1149780, 3) without duplicates row and missing values.\n",
    "2. User-ID is the unique identification for the users who gave the rating.\n",
    "3. ISBN is the book id on which the rating was given\n",
    "4. Book-Rating is the rating given by user."
   ]
  },
  {
   "cell_type": "markdown",
   "metadata": {},
   "source": [
    "### Preprocessing"
   ]
  },
  {
   "cell_type": "code",
   "execution_count": 9,
   "metadata": {},
   "outputs": [],
   "source": [
    "rating_count= df['User-ID'].value_counts().sort_values(ascending=False).reset_index()\n",
    "book_reader= rating_count[rating_count['count']>=50]\n",
    "good_readers = df[df['User-ID'].isin(book_reader['User-ID'])]"
   ]
  },
  {
   "cell_type": "code",
   "execution_count": 10,
   "metadata": {},
   "outputs": [],
   "source": [
    "isbn_count= df['ISBN'].value_counts().reset_index()\n",
    "famous_book= isbn_count[isbn_count['count'] >= 50]\n",
    "good_books_n_readers= good_readers[good_readers['ISBN'].isin(famous_book['ISBN'])]"
   ]
  },
  {
   "cell_type": "code",
   "execution_count": 11,
   "metadata": {},
   "outputs": [
    {
     "data": {
      "text/html": [
       "<div>\n",
       "<style scoped>\n",
       "    .dataframe tbody tr th:only-of-type {\n",
       "        vertical-align: middle;\n",
       "    }\n",
       "\n",
       "    .dataframe tbody tr th {\n",
       "        vertical-align: top;\n",
       "    }\n",
       "\n",
       "    .dataframe thead th {\n",
       "        text-align: right;\n",
       "    }\n",
       "</style>\n",
       "<table border=\"1\" class=\"dataframe\">\n",
       "  <thead>\n",
       "    <tr style=\"text-align: right;\">\n",
       "      <th></th>\n",
       "      <th>User-ID</th>\n",
       "      <th>ISBN</th>\n",
       "      <th>Book-Rating</th>\n",
       "    </tr>\n",
       "  </thead>\n",
       "  <tbody>\n",
       "    <tr>\n",
       "      <th>173</th>\n",
       "      <td>276847</td>\n",
       "      <td>0446364193</td>\n",
       "      <td>0</td>\n",
       "    </tr>\n",
       "    <tr>\n",
       "      <th>182</th>\n",
       "      <td>276847</td>\n",
       "      <td>3426029553</td>\n",
       "      <td>8</td>\n",
       "    </tr>\n",
       "    <tr>\n",
       "      <th>413</th>\n",
       "      <td>276925</td>\n",
       "      <td>002542730X</td>\n",
       "      <td>10</td>\n",
       "    </tr>\n",
       "    <tr>\n",
       "      <th>426</th>\n",
       "      <td>276925</td>\n",
       "      <td>0316666343</td>\n",
       "      <td>0</td>\n",
       "    </tr>\n",
       "    <tr>\n",
       "      <th>427</th>\n",
       "      <td>276925</td>\n",
       "      <td>0345391810</td>\n",
       "      <td>0</td>\n",
       "    </tr>\n",
       "    <tr>\n",
       "      <th>...</th>\n",
       "      <td>...</td>\n",
       "      <td>...</td>\n",
       "      <td>...</td>\n",
       "    </tr>\n",
       "    <tr>\n",
       "      <th>1149714</th>\n",
       "      <td>276688</td>\n",
       "      <td>0553575090</td>\n",
       "      <td>7</td>\n",
       "    </tr>\n",
       "    <tr>\n",
       "      <th>1149715</th>\n",
       "      <td>276688</td>\n",
       "      <td>0553575104</td>\n",
       "      <td>6</td>\n",
       "    </tr>\n",
       "    <tr>\n",
       "      <th>1149724</th>\n",
       "      <td>276688</td>\n",
       "      <td>0679459618</td>\n",
       "      <td>0</td>\n",
       "    </tr>\n",
       "    <tr>\n",
       "      <th>1149726</th>\n",
       "      <td>276688</td>\n",
       "      <td>0679751521</td>\n",
       "      <td>0</td>\n",
       "    </tr>\n",
       "    <tr>\n",
       "      <th>1149731</th>\n",
       "      <td>276688</td>\n",
       "      <td>068484267X</td>\n",
       "      <td>0</td>\n",
       "    </tr>\n",
       "  </tbody>\n",
       "</table>\n",
       "<p>143240 rows × 3 columns</p>\n",
       "</div>"
      ],
      "text/plain": [
       "         User-ID        ISBN  Book-Rating\n",
       "173       276847  0446364193            0\n",
       "182       276847  3426029553            8\n",
       "413       276925  002542730X           10\n",
       "426       276925  0316666343            0\n",
       "427       276925  0345391810            0\n",
       "...          ...         ...          ...\n",
       "1149714   276688  0553575090            7\n",
       "1149715   276688  0553575104            6\n",
       "1149724   276688  0679459618            0\n",
       "1149726   276688  0679751521            0\n",
       "1149731   276688  068484267X            0\n",
       "\n",
       "[143240 rows x 3 columns]"
      ]
     },
     "execution_count": 11,
     "metadata": {},
     "output_type": "execute_result"
    }
   ],
   "source": [
    "good_books_n_readers"
   ]
  },
  {
   "cell_type": "markdown",
   "metadata": {},
   "source": [
    "1. Here we are considering only those users who voted on more than 100 books and those books who got more than 50 rating counts."
   ]
  },
  {
   "cell_type": "code",
   "execution_count": 12,
   "metadata": {},
   "outputs": [
    {
     "data": {
      "image/png": "[encoded data removed]",
      "text/plain": [
       "<Figure size 1400x500 with 1 Axes>"
      ]
     },
     "metadata": {},
     "output_type": "display_data"
    },
    {
     "data": {
      "image/png": "[encoded data removed]",
      "text/plain": [
       "<Figure size 1400x500 with 1 Axes>"
      ]
     },
     "metadata": {},
     "output_type": "display_data"
    }
   ],
   "source": [
    "plt.rcParams['figure.figsize']=(14,5)\n",
    "top20users= df[\"User-ID\"].value_counts().sort_values(ascending=False).head(20)\n",
    "top20books= df[\"ISBN\"].value_counts().sort_values(ascending=False).head(20)\n",
    "top20users.plot.barh()\n",
    "plt.title('Top 20 users')\n",
    "plt.show()\n",
    "top20books.plot.barh()\n",
    "plt.title('Top 20 books')\n",
    "plt.show()"
   ]
  },
  {
   "cell_type": "code",
   "execution_count": 13,
   "metadata": {},
   "outputs": [
    {
     "name": "stdout",
     "output_type": "stream",
     "text": [
      "Top 20 users: \n",
      "            0       1       2      3      4       5       6      7       8   \\\n",
      "User-ID  11676  198711  153662  98391  35859  212898  278418  76352  110973   \n",
      "count    13602    7550    6109   5891   5850    4785    4533   3367    3100   \n",
      "\n",
      "             9       10     11      12     13     14      15      16     17  \\\n",
      "User-ID  235105  230522  16795  234623  36836  52584  245963  204864  55492   \n",
      "count      3067    2991   2948    2674   2529   2512    2507    2504   2459   \n",
      "\n",
      "             18      19  \n",
      "User-ID  185233  171118  \n",
      "count      2448    2421  \n",
      "\n",
      "Top 20 books :\n",
      "               0           1           2           3           4           5   \\\n",
      "ISBN   0971880107  0316666343  0385504209  0060928336  0312195516  044023722X   \n",
      "count        2502        1295         883         732         723         647   \n",
      "\n",
      "               6           7           8           9           10          11  \\\n",
      "ISBN   0679781587  0142001740  067976402X  0671027360  0446672211  059035342X   \n",
      "count         639         615         614         586         585         571   \n",
      "\n",
      "               12          13          14          15          16          17  \\\n",
      "ISBN   0316601950  0375727345  044021145X  0452282152  0440214041  0804106304   \n",
      "count         568         552         529         526         523         519   \n",
      "\n",
      "               18          19  \n",
      "ISBN   0440211727  0345337662  \n",
      "count         517         506  \n"
     ]
    }
   ],
   "source": [
    "print('Top 20 users: ')\n",
    "print(top20users.reset_index().T)\n",
    "print()\n",
    "print('Top 20 books :')\n",
    "print(top20books.reset_index().T)"
   ]
  },
  {
   "cell_type": "code",
   "execution_count": 14,
   "metadata": {},
   "outputs": [],
   "source": [
    "good_books_n_readers.to_csv('./preprocessed_data/preprocessed_rating.csv')"
   ]
  },
  {
   "cell_type": "code",
   "execution_count": null,
   "metadata": {},
   "outputs": [],
   "source": []
  }
 ],
 "metadata": {
  "colab": {
   "authorship_tag": "ABX9TyODU8iB+EbW4HZd+QfYYFM7",
   "mount_file_id": "1-EAA7o8YhaDTNH3MBXkEDyRlC5M1vLCh",
   "provenance": []
  },
  "kernelspec": {
   "display_name": "Python 3 (ipykernel)",
   "language": "python",
   "name": "python3"
  },
  "language_info": {
   "codemirror_mode": {
    "name": "ipython",
    "version": 3
   },
   "file_extension": ".py",
   "mimetype": "text/x-python",
   "name": "python",
   "nbconvert_exporter": "python",
   "pygments_lexer": "ipython3",
   "version": "3.11.7"
  }
 },
 "nbformat": 4,
 "nbformat_minor": 4
}
